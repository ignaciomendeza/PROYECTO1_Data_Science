{
 "cells": [
  {
   "cell_type": "markdown",
   "id": "fca3cd25",
   "metadata": {},
   "source": [
    "## **PROYECTO 1**\n",
    "#### **Limpieza de Datos**\n",
    "\n",
    "Ignacio Méndez Alvarez (22613), Diego Soto Flores (22737) y Pablo Herrera Barbales (21227)\n",
    "\n",
    "Enlace repositorio de GitHub: https://github.com/ignaciomendeza/PROYECTO1_Data_Science.git"
   ]
  },
  {
   "cell_type": "markdown",
   "id": "e324a8d8",
   "metadata": {},
   "source": [
    "### Carga de librerias"
   ]
  },
  {
   "cell_type": "code",
   "execution_count": 1,
   "id": "88bc9e60",
   "metadata": {},
   "outputs": [],
   "source": [
    "import pandas as pd\n",
    "import glob\n",
    "import re\n",
    "import unicodedata\n",
    "from rapidfuzz import fuzz"
   ]
  },
  {
   "cell_type": "markdown",
   "id": "0af9588f",
   "metadata": {},
   "source": [
    "### Carga de archivos y visualización"
   ]
  },
  {
   "cell_type": "code",
   "execution_count": 5,
   "id": "ba88e935",
   "metadata": {},
   "outputs": [
    {
     "name": "stdout",
     "output_type": "stream",
     "text": [
      "(6600, 17)\n"
     ]
    }
   ],
   "source": [
    "# Se carga y combinan múltiples archivos CSV desde una carpeta específicasaltando filas de encabezado no necesarias y líneas de pie de página.\n",
    "\n",
    "ruta = \"mineduc/*.csv\"\n",
    "\n",
    "# Leer y procesar cada archivo CSV encontrado en la ruta:\n",
    "dfs = [\n",
    "    pd.read_csv(archivo, skiprows=25, skipfooter=5, engine=\"python\")\n",
    "    for archivo in sorted(glob.glob(ruta))\n",
    "]\n",
    "\n",
    "df_final = pd.concat(dfs, ignore_index=True)\n",
    "print(df_final.shape)\n"
   ]
  },
  {
   "cell_type": "code",
   "execution_count": 6,
   "id": "9f8ed3fa",
   "metadata": {},
   "outputs": [
    {
     "name": "stdout",
     "output_type": "stream",
     "text": [
      "<class 'pandas.core.frame.DataFrame'>\n",
      "RangeIndex: 6600 entries, 0 to 6599\n",
      "Data columns (total 17 columns):\n",
      " #   Column           Non-Null Count  Dtype \n",
      "---  ------           --------------  ----- \n",
      " 0   CODIGO           6600 non-null   object\n",
      " 1   DISTRITO         6600 non-null   object\n",
      " 2   DEPARTAMENTO     6600 non-null   object\n",
      " 3   MUNICIPIO        6600 non-null   object\n",
      " 4   ESTABLECIMIENTO  6600 non-null   object\n",
      " 5   DIRECCION        6598 non-null   object\n",
      " 6   TELEFONO         6554 non-null   object\n",
      " 7   SUPERVISOR       6600 non-null   object\n",
      " 8   DIRECTOR         6574 non-null   object\n",
      " 9   NIVEL            6600 non-null   object\n",
      " 10  SECTOR           6600 non-null   object\n",
      " 11  AREA             6600 non-null   object\n",
      " 12  STATUS           6600 non-null   object\n",
      " 13  MODALIDAD        6600 non-null   object\n",
      " 14  JORNADA          6600 non-null   object\n",
      " 15  PLAN             6600 non-null   object\n",
      " 16  DEPARTAMENTAL    6600 non-null   object\n",
      "dtypes: object(17)\n",
      "memory usage: 876.7+ KB\n"
     ]
    }
   ],
   "source": [
    "# Verificación de columnas\n",
    "df_final.head()\n",
    "df_final.info()"
   ]
  },
  {
   "cell_type": "markdown",
   "id": "e37c3cfa",
   "metadata": {},
   "source": [
    "### Formato CODIGO"
   ]
  },
  {
   "cell_type": "code",
   "execution_count": 7,
   "id": "32a24696",
   "metadata": {},
   "outputs": [
    {
     "name": "stdout",
     "output_type": "stream",
     "text": [
      "Empty DataFrame\n",
      "Columns: [CODIGO, DISTRITO, DEPARTAMENTO, MUNICIPIO, ESTABLECIMIENTO, DIRECCION, TELEFONO, SUPERVISOR, DIRECTOR, NIVEL, SECTOR, AREA, STATUS, MODALIDAD, JORNADA, PLAN, DEPARTAMENTAL]\n",
      "Index: []\n"
     ]
    }
   ],
   "source": [
    "# Verificación del formato de la columna 'CODIGO' en el DataFrame `df_final`.\n",
    "pattern = re.compile(r\"^\\d{2}-\\d{2}-\\d{4}-\\d{2}$\")\n",
    "filas_incorrectas = df_final[~df_final[\"CODIGO\"].astype(str).apply(lambda x: bool(pattern.match(x)))]\n",
    "print(filas_incorrectas)\n"
   ]
  },
  {
   "cell_type": "markdown",
   "id": "3ec5a24f",
   "metadata": {},
   "source": [
    "Todas las filas siguen el formato establecido."
   ]
  },
  {
   "cell_type": "markdown",
   "id": "0a84ceef",
   "metadata": {},
   "source": [
    "### Formato DISTRITO "
   ]
  },
  {
   "cell_type": "code",
   "execution_count": 8,
   "id": "9d833cbd",
   "metadata": {},
   "outputs": [
    {
     "name": "stdout",
     "output_type": "stream",
     "text": [
      "Empty DataFrame\n",
      "Columns: [CODIGO, DISTRITO, DEPARTAMENTO, MUNICIPIO, ESTABLECIMIENTO, DIRECCION, TELEFONO, SUPERVISOR, DIRECTOR, NIVEL, SECTOR, AREA, STATUS, MODALIDAD, JORNADA, PLAN, DEPARTAMENTAL]\n",
      "Index: []\n"
     ]
    }
   ],
   "source": [
    "# Verificación del formato de la columna 'DISTRITO' en el DataFrame `df_final`.\n",
    "pattern = re.compile(r\"^\\d{2}-\\d{3}$\")\n",
    "filas_incorrectas = df_final[~df_final[\"DISTRITO\"].astype(str).apply(lambda x: bool(pattern.match(x)))]\n",
    "print(filas_incorrectas)\n"
   ]
  },
  {
   "cell_type": "markdown",
   "id": "a68db623",
   "metadata": {},
   "source": [
    "Todas las filas siguen el formato establecido."
   ]
  },
  {
   "cell_type": "markdown",
   "id": "c45a0e62",
   "metadata": {},
   "source": [
    "### Formato ESTABLECIMIENTO"
   ]
  },
  {
   "cell_type": "code",
   "execution_count": 9,
   "id": "f496e15d",
   "metadata": {},
   "outputs": [
    {
     "name": "stdout",
     "output_type": "stream",
     "text": [
      "Empty DataFrame\n",
      "Columns: [CODIGO, DISTRITO, DEPARTAMENTO, MUNICIPIO, ESTABLECIMIENTO, DIRECCION, TELEFONO, SUPERVISOR, DIRECTOR, NIVEL, SECTOR, AREA, STATUS, MODALIDAD, JORNADA, PLAN, DEPARTAMENTAL]\n",
      "Index: []\n"
     ]
    }
   ],
   "source": [
    "# Verificación de mayúsculas en la columna 'ESTABLECIMIENTO' del DataFrame `df_final`.\n",
    "filas_incorrectas = df_final[df_final[\"ESTABLECIMIENTO\"] != df_final[\"ESTABLECIMIENTO\"].str.upper()]\n",
    "print(filas_incorrectas)\n",
    "\n"
   ]
  },
  {
   "cell_type": "markdown",
   "id": "27783f59",
   "metadata": {},
   "source": [
    "Todas las filas siguen el formato establecido."
   ]
  },
  {
   "cell_type": "code",
   "execution_count": 10,
   "id": "e33700e6",
   "metadata": {},
   "outputs": [
    {
     "name": "stdout",
     "output_type": "stream",
     "text": [
      "             CODIGO DISTRITO   DEPARTAMENTO      MUNICIPIO  \\\n",
      "4292  17-05-0211-46   17-007          PETEN    LA LIBERTAD   \n",
      "4321  17-05-0335-46   17-007          PETEN    LA LIBERTAD   \n",
      "4315  17-05-0319-46   17-007          PETEN    LA LIBERTAD   \n",
      "4304  17-05-0260-46   17-007          PETEN    LA LIBERTAD   \n",
      "5947  06-01-0118-46   06-039     SANTA ROSA        CUILAPA   \n",
      "...             ...      ...            ...            ...   \n",
      "520   04-01-3068-46   04-001  CHIMALTENANGO  CHIMALTENANGO   \n",
      "392   04-01-0058-46   04-001  CHIMALTENANGO  CHIMALTENANGO   \n",
      "519   04-01-3067-46   04-001  CHIMALTENANGO  CHIMALTENANGO   \n",
      "473   04-01-0357-46   04-001  CHIMALTENANGO  CHIMALTENANGO   \n",
      "431   04-01-0230-46   04-001  CHIMALTENANGO  CHIMALTENANGO   \n",
      "\n",
      "                                        ESTABLECIMIENTO  \\\n",
      "4292          \"CENTRO DE EDUCACION INTEGRAL EL NARANJO\"   \n",
      "4321          \"CENTRO DE EDUCACION INTEGRAL EL NARANJO\"   \n",
      "4315          \"CENTRO DE EDUCACION INTEGRAL EL NARANJO\"   \n",
      "4304          \"CENTRO DE EDUCACION INTEGRAL EL NARANJO\"   \n",
      "5947  \"CENTRO DE EDUCACIÓN EXTRAESCOLAR -CEEX- DEPAR...   \n",
      "...                                                 ...   \n",
      "520                        TECNOLOGICO PREUNIVERSITARIO   \n",
      "392                        TECNOLOGICO PREUNIVERSITARIO   \n",
      "519                        TECNOLOGICO PREUNIVERSITARIO   \n",
      "473                        TECNOLÓGICO PREUNIVERSITARIO   \n",
      "431                        TECNOLÓGICO PREUNIVERSITARIO   \n",
      "\n",
      "                                              DIRECCION    TELEFONO  \\\n",
      "4292                                   ALDEA EL NARANJO    57283598   \n",
      "4321                                   ALDEA EL NARANJO    53663885   \n",
      "4315                                   ALDEA EL NARANJO    53663885   \n",
      "4304                                   ALDEA EL NARANJO    57283598   \n",
      "5947  4A. CALLE 2-55, ZONA 4 BARRIO EL LLANITO, CUIL...  78865585.0   \n",
      "...                                                 ...         ...   \n",
      "520                             3ERA. CALLE 7-54 ZONA 3    78394519   \n",
      "392                                 3 CALLE 7-54 ZONA 3    78394519   \n",
      "519                             3ERA. CALLE 7-54 ZONA 3    78394519   \n",
      "473                              3A. CALLE 7-54, ZONA 3    78394519   \n",
      "431                               3A. CALLE 7-54 ZONA 3    78394519   \n",
      "\n",
      "                            SUPERVISOR  \\\n",
      "4292                 ARIEL ESAU PELAEZ   \n",
      "4321                 ARIEL ESAU PELAEZ   \n",
      "4315                 ARIEL ESAU PELAEZ   \n",
      "4304                 ARIEL ESAU PELAEZ   \n",
      "5947  JORGE BALDOMERO GONZALEZ BARRERA   \n",
      "...                                ...   \n",
      "520                 ABIMAEL ACUTA ABAJ   \n",
      "392                 ABIMAEL ACUTA ABAJ   \n",
      "519                 ABIMAEL ACUTA ABAJ   \n",
      "473                 ABIMAEL ACUTA ABAJ   \n",
      "431                 ABIMAEL ACUTA ABAJ   \n",
      "\n",
      "                                    DIRECTOR          NIVEL   SECTOR    AREA  \\\n",
      "4292          MIRIÁN VIRGINIA MARTÍNEZ CANTÉ  DIVERSIFICADO  PRIVADO   RURAL   \n",
      "4321          MIRIÁN VIRGINIA MARTÍNEZ CANTÉ  DIVERSIFICADO  PRIVADO   RURAL   \n",
      "4315          MIRIÁN VIRGINIA MARTÍNEZ CANTÉ  DIVERSIFICADO  PRIVADO   RURAL   \n",
      "4304          MIRIÁN VIRGINIA MARTÍNEZ CANTÉ  DIVERSIFICADO  PRIVADO   RURAL   \n",
      "5947  MARTA JULIA BARRERA BARRERA DE ALVAREZ  DIVERSIFICADO  OFICIAL  URBANA   \n",
      "...                                      ...            ...      ...     ...   \n",
      "520                     GERSON ARELY PUZ SAL  DIVERSIFICADO  PRIVADO  URBANA   \n",
      "392                     GERSON ARELY PUZ SAL  DIVERSIFICADO  PRIVADO  URBANA   \n",
      "519                     GERSON ARELY PUZ SAL  DIVERSIFICADO  PRIVADO  URBANA   \n",
      "473                     GERSON ARELY PUZ SAL  DIVERSIFICADO  PRIVADO  URBANA   \n",
      "431                     GERSON ARELY PUZ SAL  DIVERSIFICADO  PRIVADO  URBANA   \n",
      "\n",
      "       STATUS   MODALIDAD      JORNADA                                   PLAN  \\\n",
      "4292  ABIERTA  MONOLINGUE   VESPERTINA                        DIARIO(REGULAR)   \n",
      "4321  ABIERTA  MONOLINGUE  SIN JORNADA    SEMIPRESENCIAL (UN DÍA A LA SEMANA)   \n",
      "4315  ABIERTA  MONOLINGUE     MATUTINA                        DIARIO(REGULAR)   \n",
      "4304  ABIERTA    BILINGUE        DOBLE                          FIN DE SEMANA   \n",
      "5947  ABIERTA  MONOLINGUE        DOBLE                         SEMIPRESENCIAL   \n",
      "...       ...         ...          ...                                    ...   \n",
      "520   ABIERTA  MONOLINGUE   VESPERTINA                        DIARIO(REGULAR)   \n",
      "392   ABIERTA  MONOLINGUE        DOBLE                        DIARIO(REGULAR)   \n",
      "519   ABIERTA  MONOLINGUE     MATUTINA                        DIARIO(REGULAR)   \n",
      "473   ABIERTA  MONOLINGUE  SIN JORNADA  SEMIPRESENCIAL (DOS DÍAS A LA SEMANA)   \n",
      "431   ABIERTA    BILINGUE     MATUTINA                        DIARIO(REGULAR)   \n",
      "\n",
      "      DEPARTAMENTAL  \n",
      "4292          PETÉN  \n",
      "4321          PETÉN  \n",
      "4315          PETÉN  \n",
      "4304          PETÉN  \n",
      "5947     SANTA ROSA  \n",
      "...             ...  \n",
      "520   CHIMALTENANGO  \n",
      "392   CHIMALTENANGO  \n",
      "519   CHIMALTENANGO  \n",
      "473   CHIMALTENANGO  \n",
      "431   CHIMALTENANGO  \n",
      "\n",
      "[4072 rows x 17 columns]\n"
     ]
    }
   ],
   "source": [
    "# Detección de valores repetidos en la columna 'ESTABLECIMIENTO' del DataFrame `df_final`.\n",
    "repetidos = df_final[df_final[\"ESTABLECIMIENTO\"].duplicated(keep=False)]\n",
    "print(repetidos.sort_values(\"ESTABLECIMIENTO\"))\n"
   ]
  },
  {
   "cell_type": "code",
   "execution_count": 11,
   "id": "f4a57bd6",
   "metadata": {},
   "outputs": [
    {
     "name": "stdout",
     "output_type": "stream",
     "text": [
      "Total de pares con similitud > 95%: 883\n"
     ]
    },
    {
     "data": {
      "text/html": [
       "<div>\n",
       "<style scoped>\n",
       "    .dataframe tbody tr th:only-of-type {\n",
       "        vertical-align: middle;\n",
       "    }\n",
       "\n",
       "    .dataframe tbody tr th {\n",
       "        vertical-align: top;\n",
       "    }\n",
       "\n",
       "    .dataframe thead th {\n",
       "        text-align: right;\n",
       "    }\n",
       "</style>\n",
       "<table border=\"1\" class=\"dataframe\">\n",
       "  <thead>\n",
       "    <tr style=\"text-align: right;\">\n",
       "      <th></th>\n",
       "      <th>Nombre_Original</th>\n",
       "      <th>Nombre_Comparado</th>\n",
       "      <th>Similitud (%)</th>\n",
       "    </tr>\n",
       "  </thead>\n",
       "  <tbody>\n",
       "    <tr>\n",
       "      <th>296</th>\n",
       "      <td>COLEGIO \"CENTRO DE FORMACION PROFESIONAL PRE-U...</td>\n",
       "      <td>COLEGIO \"CENTRO DE FORMACION PROFESIONAL PREUN...</td>\n",
       "      <td>99.393939</td>\n",
       "    </tr>\n",
       "    <tr>\n",
       "      <th>529</th>\n",
       "      <td>COLEGIO EDUCATIVO PRIVADO MIXTO DE FORMACION I...</td>\n",
       "      <td>COLEGIO EDUCATIVO PRIVADO MIXTO DE FORMACION I...</td>\n",
       "      <td>99.363057</td>\n",
       "    </tr>\n",
       "    <tr>\n",
       "      <th>215</th>\n",
       "      <td>INSTITUTO NACIONAL DE EDUCACIÓN DIVERSIFICADA ...</td>\n",
       "      <td>INSTITUTO NACIONAL DE EDUCACIÓN DIVERSIFICADA ...</td>\n",
       "      <td>99.328859</td>\n",
       "    </tr>\n",
       "    <tr>\n",
       "      <th>329</th>\n",
       "      <td>INSTITUTO MIXTO MUNICIPAL DE EDUCACIÓN BÁSICA ...</td>\n",
       "      <td>INSTITUTO MIXTO MUNICIPAL DE EDUCACIÓN BÁSICA ...</td>\n",
       "      <td>99.310345</td>\n",
       "    </tr>\n",
       "    <tr>\n",
       "      <th>87</th>\n",
       "      <td>CENTRO DE ESTUDIOS TECNICOS Y AVANZADOS DE CHI...</td>\n",
       "      <td>CENTRO DE ESTUDIOS TECNICOS Y AVANZADOS DE CHI...</td>\n",
       "      <td>99.290780</td>\n",
       "    </tr>\n",
       "    <tr>\n",
       "      <th>...</th>\n",
       "      <td>...</td>\n",
       "      <td>...</td>\n",
       "      <td>...</td>\n",
       "    </tr>\n",
       "    <tr>\n",
       "      <th>58</th>\n",
       "      <td>PROGRAMA NACIONAL DE EDUCACIÓN ALTERNATIVA -PR...</td>\n",
       "      <td>PROGRAMA NACIONAL DE EDUCACION ALTERNATIVA, PR...</td>\n",
       "      <td>95.049505</td>\n",
       "    </tr>\n",
       "    <tr>\n",
       "      <th>662</th>\n",
       "      <td>INSTITUTO NACIONAL DE EDUCACION DIVERSIFICADA ...</td>\n",
       "      <td>INSTITUTO NACIONAL DE EDUCACION DIVERSIFICADO-...</td>\n",
       "      <td>95.049505</td>\n",
       "    </tr>\n",
       "    <tr>\n",
       "      <th>346</th>\n",
       "      <td>PROGRAMA NACIONAL DE EDUCACIÓN ALTERNATIVA , P...</td>\n",
       "      <td>PROGRAMA NACIONA DE EDUCACIÓN ALTERNATIVA -PRO...</td>\n",
       "      <td>95.049505</td>\n",
       "    </tr>\n",
       "    <tr>\n",
       "      <th>745</th>\n",
       "      <td>PROGRAMA NACIONA DE EDUCACIÓN ALTERNATIVA -PRO...</td>\n",
       "      <td>PROGRAMA NACIONAL DE EDUCACIÓN ALTERNATIVA, PR...</td>\n",
       "      <td>95.049505</td>\n",
       "    </tr>\n",
       "    <tr>\n",
       "      <th>95</th>\n",
       "      <td>PROGRAMA NACIONAL DE EDUCACIÓN ALTERNATIVA, PR...</td>\n",
       "      <td>PROGRAMA NACIONAL DE EDUCACION ALTERNATIVA -PR...</td>\n",
       "      <td>95.049505</td>\n",
       "    </tr>\n",
       "  </tbody>\n",
       "</table>\n",
       "<p>883 rows × 3 columns</p>\n",
       "</div>"
      ],
      "text/plain": [
       "                                       Nombre_Original  \\\n",
       "296  COLEGIO \"CENTRO DE FORMACION PROFESIONAL PRE-U...   \n",
       "529  COLEGIO EDUCATIVO PRIVADO MIXTO DE FORMACION I...   \n",
       "215  INSTITUTO NACIONAL DE EDUCACIÓN DIVERSIFICADA ...   \n",
       "329  INSTITUTO MIXTO MUNICIPAL DE EDUCACIÓN BÁSICA ...   \n",
       "87   CENTRO DE ESTUDIOS TECNICOS Y AVANZADOS DE CHI...   \n",
       "..                                                 ...   \n",
       "58   PROGRAMA NACIONAL DE EDUCACIÓN ALTERNATIVA -PR...   \n",
       "662  INSTITUTO NACIONAL DE EDUCACION DIVERSIFICADA ...   \n",
       "346  PROGRAMA NACIONAL DE EDUCACIÓN ALTERNATIVA , P...   \n",
       "745  PROGRAMA NACIONA DE EDUCACIÓN ALTERNATIVA -PRO...   \n",
       "95   PROGRAMA NACIONAL DE EDUCACIÓN ALTERNATIVA, PR...   \n",
       "\n",
       "                                      Nombre_Comparado  Similitud (%)  \n",
       "296  COLEGIO \"CENTRO DE FORMACION PROFESIONAL PREUN...      99.393939  \n",
       "529  COLEGIO EDUCATIVO PRIVADO MIXTO DE FORMACION I...      99.363057  \n",
       "215  INSTITUTO NACIONAL DE EDUCACIÓN DIVERSIFICADA ...      99.328859  \n",
       "329  INSTITUTO MIXTO MUNICIPAL DE EDUCACIÓN BÁSICA ...      99.310345  \n",
       "87   CENTRO DE ESTUDIOS TECNICOS Y AVANZADOS DE CHI...      99.290780  \n",
       "..                                                 ...            ...  \n",
       "58   PROGRAMA NACIONAL DE EDUCACION ALTERNATIVA, PR...      95.049505  \n",
       "662  INSTITUTO NACIONAL DE EDUCACION DIVERSIFICADO-...      95.049505  \n",
       "346  PROGRAMA NACIONA DE EDUCACIÓN ALTERNATIVA -PRO...      95.049505  \n",
       "745  PROGRAMA NACIONAL DE EDUCACIÓN ALTERNATIVA, PR...      95.049505  \n",
       "95   PROGRAMA NACIONAL DE EDUCACION ALTERNATIVA -PR...      95.049505  \n",
       "\n",
       "[883 rows x 3 columns]"
      ]
     },
     "execution_count": 11,
     "metadata": {},
     "output_type": "execute_result"
    }
   ],
   "source": [
    "# Detección de nombres de establecimientos con alta similitud (mayor al 95%) utilizando la librería RapidFuzz.\n",
    "nombres = df_final[\"ESTABLECIMIENTO\"].unique()\n",
    "resultados = []\n",
    "for i, nombre in enumerate(nombres):\n",
    "    for j in range(i + 1, len(nombres)):  \n",
    "        similitud = fuzz.ratio(nombre, nombres[j])  \n",
    "        if similitud > 95 and similitud < 100:      \n",
    "            resultados.append({\n",
    "                \"Nombre_Original\": nombre,\n",
    "                \"Nombre_Comparado\": nombres[j],\n",
    "                \"Similitud (%)\": similitud\n",
    "            })\n",
    "\n",
    "df_parecidos = pd.DataFrame(resultados).sort_values(\"Similitud (%)\", ascending=False)\n",
    "print(f\"Total de pares con similitud > 95%: {len(df_parecidos)}\")\n",
    "df_parecidos\n"
   ]
  },
  {
   "cell_type": "code",
   "execution_count": 12,
   "id": "677ff04a",
   "metadata": {},
   "outputs": [],
   "source": [
    "# Limpia y normaliza los valores de una columna de nombres de establecimientos educativos.\n",
    "def limpiar_establecimiento(df, columna=\"ESTABLECIMIENTO\"):\n",
    "    \n",
    "    def normalizar_tildes(texto):\n",
    "        return unicodedata.normalize(\"NFC\", texto)\n",
    "\n",
    "\n",
    "    correcciones_seguras = {\n",
    "        \"INSDUSTRIAL\": \"INDUSTRIAL\",\n",
    "        \"BILINGUE\": \"BILINGÜE\"\n",
    "    }\n",
    "\n",
    "    correcciones_tildes = {\n",
    "        \"BILINGÚE\": \"BILINGÜE\",\n",
    "        \"BINLINGÜE\": \"BILINGÜE\",\n",
    "        \"TECNOLGÍA\": \"TECNOLOGÍA\",\n",
    "        \"TECNOLOGIA\": \"TECNOLOGÍA\",\n",
    "        \"TECNÓLOGICO\": \"TECNOLÓGICO\",\n",
    "        \"EDCACIÓN\": \"EDUCACIÓN\",\n",
    "        \"JÉSUS\": \"JESÚS\",\n",
    "        \"EVANGELICO\": \"EVANGÉLICO\",\n",
    "        \"COMPUTACION\": \"COMPUTACIÓN\",\n",
    "        \"INFORMATICA\": \"INFORMÁTICA\",\n",
    "        \"TECNICAS\": \"TÉCNICAS\",\n",
    "        \"FORMACION\": \"FORMACIÓN\",\n",
    "        \"BASICA\": \"BÁSICA\"\n",
    "    }\n",
    "\n",
    "\n",
    "    df[columna] = (\n",
    "        df[columna]\n",
    "        .astype(str)                                \n",
    "        .str.upper()                                \n",
    "        .apply(normalizar_tildes)                   \n",
    "        .str.replace(r\"[-_]\", \" \", regex=True)      \n",
    "        .str.replace(r\"\\s+\", \" \", regex=True)       \n",
    "        .str.strip()                                \n",
    "        .str.rstrip(\".\")                                   \n",
    "        .str.replace(r\"\\(\\s*(.*?)\\s*\\)\", r\"(\\1)\", regex=True)  \n",
    "        .replace(correcciones_seguras, regex=True)  \n",
    "        .replace(correcciones_tildes, regex=True)   \n",
    "        .str.replace(r\"(\\d),(\\d{3})\", r\"\\1\\2\", regex=True)      \n",
    "        .str.replace(r\"\\bNO\\.?\\s*(\\d+)\", r\"NO. \\1\", regex=True) \n",
    "        .str.replace(r\"(NO\\. \\d+),\", r\"\\1, \", regex=True)       \n",
    "        .str.replace(r\"\\s+,\", \",\", regex=True)      \n",
    "        .str.replace(r\",\\s*\", \", \", regex=True)     \n",
    "        .str.replace(r\"\\s+\", \" \", regex=True)       \n",
    "        .str.strip()\n",
    "    )\n",
    "\n",
    "    return df\n",
    "\n",
    "df_final = limpiar_establecimiento(df_final, \"ESTABLECIMIENTO\")"
   ]
  },
  {
   "cell_type": "code",
   "execution_count": 13,
   "id": "51390fe8",
   "metadata": {},
   "outputs": [],
   "source": [
    "# Coloca las comillas dobles, respetando los casos donde se usan comillas simples\n",
    "df_final[\"ESTABLECIMIENTO\"] = (\n",
    "    df_final[\"ESTABLECIMIENTO\"]\n",
    "    .astype(str)  # Asegurar que todos los valores sean strings\n",
    "    .str.replace(r\"(?<!\\w)'|'(?!\\w)\", '\"', regex=True)  \n",
    ")"
   ]
  },
  {
   "cell_type": "markdown",
   "id": "b1a7311a",
   "metadata": {},
   "source": [
    "# Dirección"
   ]
  },
  {
   "cell_type": "code",
   "execution_count": 14,
   "id": "9008aba7",
   "metadata": {},
   "outputs": [],
   "source": [
    "def limpiar_direccion(s: str) -> str:\n",
    "    s = \"\" if pd.isna(s) else str(s)\n",
    "    \n",
    "    s = unicodedata.normalize(\"NFC\", s).upper()\n",
    "    \n",
    "    # Unificar variantes de AVENIDA\n",
    "    s = re.sub(r\"\\b(AVENIDA|AVENIDA\\.|AVE|AVE\\.|AV|AV\\.)\\b\", \"AVENIDA\", s)\n",
    "    \n",
    "    # Normalizar ordinales femeninos\n",
    "    s = re.sub(r\"\\b(\\d+)\\s*A\\b\", r\"\\1ª\", s)\n",
    "    s = re.sub(r\"\\b(\\d+)\\s*RA\\.?\\b\", r\"\\1ª\", s)\n",
    "    s = re.sub(r\"\\b(\\d+)\\s*DA\\.?\\b\", r\"\\1ª\", s)\n",
    "    s = re.sub(r\"\\b(\\d+)\\s*ERA\\.?\\b\", r\"\\1ª\", s)\n",
    "    s = re.sub(r\"\\b(\\d+)\\s*TA\\.?\\b\", r\"\\1ª\", s)\n",
    "    s = re.sub(r\"\\b(\\d+)\\s*A\\b\", r\"\\1ª\", s)\n",
    "    \n",
    "    # Números antes de AVENIDA \n",
    "    s = re.sub(r\"\\b([1-9]\\d*)\\s*AVENIDA\\b\", r\"\\1ª. AVENIDA\", s)\n",
    "\n",
    "    # Cambiar valores antes de AVENIDA\n",
    "    s = re.sub(r\"\\b([1-9]\\d*)AV\\.?\\b\", r\"\\1ª. AVENIDA\", s)\n",
    "\n",
    "    # KM y variantes\n",
    "    s = re.sub(r\"\\b(KM|KMS?|KIL|KIL\\.|KILOMETRO|KILÓMETRO)\\.?\\s*(\\d+)\\b\", r\"KM. \\2\", s)\n",
    "    \n",
    "    # Unificar variantes de CALLE\n",
    "    s = re.sub(r\"\\b(CALE|CALLE\\.?|C\\.|CLLE|CL)\\b\", \"CALLE\", s)\n",
    "    \n",
    "    # Cambiar 'O' solita por '0'\n",
    "    s = re.sub(r\"\\bO\\b\", \"0\", s)\n",
    "\n",
    "    s = re.sub(r\"\\b0ª\\. AVENIDA\\b\", \"0 AVENIDA\", s)\n",
    "        \n",
    "    s = re.sub(r\"\\b([A-Z])\\1+\\b\", r\"\\1\", s)\n",
    "    \n",
    "    s = re.sub(r\"\\bDIAGNONAL\\b\", \"DIAGONAL\", s)\n",
    "\n",
    "    # Normalizar espacios múltiples\n",
    "    s = re.sub(r\"\\s+\", \" \", s).strip()\n",
    "    \n",
    "    # Asegurar espacio después de AVENIDA\n",
    "    s = re.sub(r\"\\bAVENIDA\\b(?!\\s)\", \"AVENIDA \", s)\n",
    "        \n",
    "    s = re.sub(r'\\bCINCO\\s+GUION\\s+DOCE\\b', '', s, flags=re.IGNORECASE)\n",
    "    s = re.sub(r'\\s+', ' ', s).strip() \n",
    "\n",
    "    return s\n",
    "\n",
    "if \"DIRECCION\" in df_final.columns:\n",
    "    df_final[\"DIRECCION\"] = df_final[\"DIRECCION\"].apply(limpiar_direccion)\n"
   ]
  },
  {
   "cell_type": "code",
   "execution_count": 15,
   "id": "34bacfaa",
   "metadata": {},
   "outputs": [],
   "source": [
    "# Se coloca N/A en celdas vacías\n",
    "df_final[\"DIRECCION\"] = df_final[\"DIRECCION\"].apply(\n",
    "    lambda x: \"N/A\" if pd.isna(x) or str(x).strip() == \"\" else x\n",
    ")"
   ]
  },
  {
   "cell_type": "markdown",
   "id": "9f8ee945",
   "metadata": {},
   "source": [
    "# Teléfono"
   ]
  },
  {
   "cell_type": "code",
   "execution_count": 16,
   "id": "e3a2c078",
   "metadata": {},
   "outputs": [],
   "source": [
    "def limpiar_telefono(s: str) -> str:\n",
    "    s = \"\" if pd.isna(s) else str(s).strip()\n",
    "    \n",
    "    # Elimina todo lo que no sea dígito\n",
    "    numeros = re.findall(r\"\\d+\", s)\n",
    "    \n",
    "    if not numeros:\n",
    "        return \"N/A\"\n",
    "    \n",
    "    tel = numeros[0]\n",
    "    \n",
    "    # Si no tiene exactamente 8 dígitos, lo marca como N/A\n",
    "    if len(tel) != 8:\n",
    "        return \"N/A\"\n",
    "    \n",
    "    # Inserta guion después de los primeros 4 dígitos\n",
    "    tel_formateado = f\"{tel[:4]}-{tel[4:]}\"\n",
    "    \n",
    "    return tel_formateado\n",
    "\n",
    "# Aplicarlo a df_final\n",
    "if \"TELEFONO\" in df_final.columns:\n",
    "    df_final[\"TELEFONO\"] = df_final[\"TELEFONO\"].apply(limpiar_telefono)\n"
   ]
  },
  {
   "cell_type": "markdown",
   "id": "ea42b570",
   "metadata": {},
   "source": [
    "# Supervisor/director"
   ]
  },
  {
   "cell_type": "code",
   "execution_count": 17,
   "id": "daed6328",
   "metadata": {},
   "outputs": [],
   "source": [
    "def normalize_nfc(s: str) -> str:\n",
    "    return unicodedata.normalize(\"NFC\", s)\n",
    "\n",
    "def strip_diacritics(s: str) -> str:\n",
    "    s = unicodedata.normalize(\"NFD\", s)\n",
    "    s = \"\".join(c for c in s if unicodedata.category(c) != \"Mn\")\n",
    "    return unicodedata.normalize(\"NFC\", s)\n",
    "\n",
    "def limpiar_nombre_persona(s: str) -> str:\n",
    "    s = \"\" if pd.isna(s) else str(s)\n",
    "    s = normalize_nfc(s).upper().strip()\n",
    "    s = re.sub(r\"[“”]\", '\"', s)\n",
    "    s = re.sub(r\"[‘’]\", \"'\", s)\n",
    "    s = re.sub(r'^\"+|\"+$', \"\", s)           \n",
    "    s = re.sub(r\"[^\\w\\s'.-]\", \" \", s)       \n",
    "    s = re.sub(r\"\\s+\", \" \", s).strip()\n",
    "    return s\n",
    "\n",
    "def clave_bloqueo(s: str) -> str:\n",
    "    s2 = strip_diacritics(s)\n",
    "    s2 = re.sub(r\"[^A-Z\\s]\", \" \", s2.upper())\n",
    "    toks = sorted(set(s2.split()))\n",
    "    return \" \".join(toks)\n",
    "\n",
    "def construir_mapeo_canon(df_col_std: pd.Series, df_col_block: pd.Series, umbral=95):\n",
    "    mapping = {}\n",
    "    tmp = pd.DataFrame({\"STD\": df_col_std, \"BLOCK\": df_col_block}).dropna().drop_duplicates()\n",
    "    #Devuelve dict: nombre_std -> nombre_canónico\n",
    "    for block, grp in tmp.groupby(\"BLOCK\"):\n",
    "        vals = grp[\"STD\"].tolist()\n",
    "        if len(vals) == 1:\n",
    "            mapping[vals[0]] = vals[0]\n",
    "            continue\n",
    "        clusters = []\n",
    "        for v in vals:\n",
    "            asignado = False\n",
    "            for cl in clusters:\n",
    "                if any(fuzz.token_set_ratio(v, w) >= umbral for w in cl):\n",
    "                    cl.append(v)\n",
    "                    asignado = True\n",
    "                    break\n",
    "            if not asignado:\n",
    "                clusters.append([v])\n",
    "        freqs = df_col_std.value_counts()\n",
    "        for cl in clusters:\n",
    "            canon = max(cl, key=lambda x: freqs.get(x, 0))\n",
    "            for v in cl:\n",
    "                mapping[v] = canon\n",
    "    return mapping\n",
    "\n",
    "# Aplicar limpieza a SUPERVISOR / DIRECTOR\n",
    "for col in [\"SUPERVISOR\", \"DIRECTOR\"]:\n",
    "    if col in df_final.columns:\n",
    "        df_final[col + \"_STD\"] = df_final[col].apply(limpiar_nombre_persona)\n",
    "        df_final[col + \"_BLOCK\"] = df_final[col + \"_STD\"].apply(clave_bloqueo)\n",
    "        \n",
    "        mapeo = construir_mapeo_canon(df_final[col + \"_STD\"], df_final[col + \"_BLOCK\"], umbral=95)\n",
    "        df_final[col + \"_CANON\"] = df_final[col + \"_STD\"].map(mapeo)\n",
    "        \n",
    "        mask = df_final[col + \"_STD\"] != df_final[col + \"_CANON\"]\n",
    "        df_final.loc[mask, col] = df_final.loc[mask, col + \"_CANON\"]\n",
    "        \n",
    "        df_final[col] = df_final[col].apply(lambda x: \"N/A\" if not re.search(r\"[A-Z]\", str(x).upper()) else x)\n",
    "\n",
    "        df_final.drop(columns=[col + \"_STD\", col + \"_BLOCK\", col + \"_CANON\"], inplace=True)\n"
   ]
  },
  {
   "cell_type": "markdown",
   "id": "1225d0c9",
   "metadata": {},
   "source": [
    "# Plan"
   ]
  },
  {
   "cell_type": "code",
   "execution_count": 18,
   "id": "e5829320",
   "metadata": {},
   "outputs": [],
   "source": [
    "def normalize_nfc(s: str) -> str:\n",
    "    return unicodedata.normalize(\"NFC\", s)\n",
    "\n",
    "# Limpieza base para comparar \n",
    "def limpiar_plan_std(s: str) -> str:\n",
    "    s = \"\" if pd.isna(s) else str(s)\n",
    "    s = normalize_nfc(s).upper().strip()\n",
    "    s = re.sub(r\"[“”]\", '\"', s)\n",
    "    s = re.sub(r\"[‘’]\", \"'\", s)\n",
    "    s = re.sub(r\"\\s+\", \" \", s).strip()\n",
    "    return s\n",
    "\n",
    "# Clave de bloqueo para agrupar variantes\n",
    "def bloque_plan(s: str) -> str:\n",
    "    s2 = unicodedata.normalize(\"NFD\", s)\n",
    "    s2 = \"\".join(c for c in s2 if unicodedata.category(c) != \"Mn\")  # sin tildes\n",
    "    s2 = re.sub(r\"[^A-Z0-9\\s]\", \" \", s2.upper())  # elimina todo lo no alfanumérico ((), -, etc.)\n",
    "    toks = sorted(set(s2.split()))\n",
    "    return \" \".join(toks)\n",
    "\n",
    "def construir_mapeo_canon(df_col_std: pd.Series, df_col_block: pd.Series, umbral=90):\n",
    "    \n",
    "    mapping = {}\n",
    "    tmp = pd.DataFrame({\"STD\": df_col_std, \"BLOCK\": df_col_block}).dropna().drop_duplicates()\n",
    "    freqs = df_col_std.value_counts()\n",
    "\n",
    "    for block, grp in tmp.groupby(\"BLOCK\"):\n",
    "        vals = grp[\"STD\"].tolist()\n",
    "        if len(vals) == 1:\n",
    "            mapping[vals[0]] = vals[0]\n",
    "            continue\n",
    "\n",
    "        clusters = []\n",
    "        for v in vals:\n",
    "            asignado = False\n",
    "            for cl in clusters:\n",
    "                if any(fuzz.token_set_ratio(v, w) >= umbral for w in cl):\n",
    "                    cl.append(v)\n",
    "                    asignado = True\n",
    "                    break\n",
    "            if not asignado:\n",
    "                clusters.append([v])\n",
    "\n",
    "        for cl in clusters:\n",
    "            canon = max(cl, key=lambda x: freqs.get(x, 0))\n",
    "            for v in cl:\n",
    "                mapping[v] = canon\n",
    "\n",
    "    return mapping\n",
    "\n",
    "# Aplicamos a Plan\n",
    "if \"PLAN\" in df_final.columns:\n",
    "    df_final[\"PLAN_STD\"]   = df_final[\"PLAN\"].apply(limpiar_plan_std)\n",
    "    df_final[\"PLAN_BLOCK\"] = df_final[\"PLAN_STD\"].apply(bloque_plan)\n",
    "\n",
    "    mapeo = construir_mapeo_canon(df_final[\"PLAN_STD\"], df_final[\"PLAN_BLOCK\"], umbral=90)\n",
    "    df_final[\"PLAN_CANON\"] = df_final[\"PLAN_STD\"].map(mapeo).fillna(df_final[\"PLAN_STD\"])\n",
    "\n",
    "    # Sobrescribir la columna original con el canónico\n",
    "    df_final[\"PLAN\"] = df_final[\"PLAN_CANON\"]\n",
    "\n",
    "    df_final[\"PLAN\"] = (\n",
    "        df_final[\"PLAN\"]\n",
    "        .str.replace(r\"(?<!\\s)\\(\", \" (\", regex=True)  \n",
    "        .str.replace(r\"\\s+\", \" \", regex=True)         \n",
    "        .str.strip()\n",
    "    )\n",
    "\n",
    "    df_final.drop(columns=[\"PLAN_STD\", \"PLAN_BLOCK\", \"PLAN_CANON\"], inplace=True, errors=\"ignore\")"
   ]
  },
  {
   "cell_type": "markdown",
   "id": "47c06ae5",
   "metadata": {},
   "source": [
    "#### **DATA LIMPIA**"
   ]
  },
  {
   "cell_type": "code",
   "execution_count": 19,
   "id": "1052e98b",
   "metadata": {},
   "outputs": [],
   "source": [
    "df_final.to_excel(\"df_final.xlsx\", index=False, engine=\"openpyxl\")"
   ]
  },
  {
   "cell_type": "code",
   "execution_count": 20,
   "id": "2cfefdfa",
   "metadata": {},
   "outputs": [],
   "source": [
    "df_final.to_csv(\"df_final.csv\", index=False, sep=\",\", encoding=\"utf-8\")"
   ]
  }
 ],
 "metadata": {
  "kernelspec": {
   "display_name": "Python 3",
   "language": "python",
   "name": "python3"
  },
  "language_info": {
   "codemirror_mode": {
    "name": "ipython",
    "version": 3
   },
   "file_extension": ".py",
   "mimetype": "text/x-python",
   "name": "python",
   "nbconvert_exporter": "python",
   "pygments_lexer": "ipython3",
   "version": "3.11.9"
  }
 },
 "nbformat": 4,
 "nbformat_minor": 5
}
